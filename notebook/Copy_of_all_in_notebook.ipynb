{
  "cells": [
    {
      "cell_type": "markdown",
      "metadata": {
        "id": "cSIZe_0eJGt4"
      },
      "source": [
        "install libraries"
      ]
    },
    {
      "cell_type": "code",
      "execution_count": null,
      "metadata": {
        "colab": {
          "base_uri": "https://localhost:8080/"
        },
        "id": "L87-IBWhJOKv",
        "outputId": "15da57b8-89f5-493c-848b-4a8b79181e59"
      },
      "outputs": [
        {
          "name": "stdout",
          "output_type": "stream",
          "text": [
            "Mounted at Oppositional_thinking\n"
          ]
        }
      ],
      "source": [
        "from google.colab import drive\n",
        "drive.mount('Oppositional_thinking')"
      ]
    },
    {
      "cell_type": "code",
      "execution_count": null,
      "metadata": {
        "colab": {
          "base_uri": "https://localhost:8080/"
        },
        "id": "6CqTVHUxJGuB",
        "outputId": "e08111ca-75d0-41ee-e364-fb50309d4c8c"
      },
      "outputs": [
        {
          "name": "stdout",
          "output_type": "stream",
          "text": [
            "Requirement already satisfied: aiohttp==3.9.5 in /usr/local/lib/python3.10/dist-packages (from -r requirements_colab.txt (line 1)) (3.9.5)\n",
            "Requirement already satisfied: aiosignal==1.3.1 in /usr/local/lib/python3.10/dist-packages (from -r requirements_colab.txt (line 2)) (1.3.1)\n",
            "Requirement already satisfied: async-timeout==4.0.3 in /usr/local/lib/python3.10/dist-packages (from -r requirements_colab.txt (line 3)) (4.0.3)\n",
            "Requirement already satisfied: attrs==23.2.0 in /usr/local/lib/python3.10/dist-packages (from -r requirements_colab.txt (line 4)) (23.2.0)\n",
            "Requirement already satisfied: certifi==2024.2.2 in /usr/local/lib/python3.10/dist-packages (from -r requirements_colab.txt (line 5)) (2024.2.2)\n",
            "Requirement already satisfied: charset-normalizer==3.3.2 in /usr/local/lib/python3.10/dist-packages (from -r requirements_colab.txt (line 6)) (3.3.2)\n",
            "Requirement already satisfied: click==8.1.7 in /usr/local/lib/python3.10/dist-packages (from -r requirements_colab.txt (line 7)) (8.1.7)\n",
            "Requirement already satisfied: colorama==0.4.6 in /usr/local/lib/python3.10/dist-packages (from -r requirements_colab.txt (line 8)) (0.4.6)\n",
            "Requirement already satisfied: contourpy==1.2.1 in /usr/local/lib/python3.10/dist-packages (from -r requirements_colab.txt (line 9)) (1.2.1)\n",
            "Requirement already satisfied: cycler==0.12.1 in /usr/local/lib/python3.10/dist-packages (from -r requirements_colab.txt (line 10)) (0.12.1)\n",
            "Requirement already satisfied: datasets==2.19.1 in /usr/local/lib/python3.10/dist-packages (from -r requirements_colab.txt (line 11)) (2.19.1)\n",
            "Requirement already satisfied: dill==0.3.8 in /usr/local/lib/python3.10/dist-packages (from -r requirements_colab.txt (line 12)) (0.3.8)\n",
            "Requirement already satisfied: docker-pycreds==0.4.0 in /usr/local/lib/python3.10/dist-packages (from -r requirements_colab.txt (line 13)) (0.4.0)\n",
            "Requirement already satisfied: evaluate==0.4.2 in /usr/local/lib/python3.10/dist-packages (from -r requirements_colab.txt (line 14)) (0.4.2)\n",
            "Requirement already satisfied: filelock==3.13.1 in /usr/local/lib/python3.10/dist-packages (from -r requirements_colab.txt (line 15)) (3.13.1)\n",
            "Requirement already satisfied: fonttools==4.51.0 in /usr/local/lib/python3.10/dist-packages (from -r requirements_colab.txt (line 16)) (4.51.0)\n",
            "Requirement already satisfied: frozenlist==1.4.1 in /usr/local/lib/python3.10/dist-packages (from -r requirements_colab.txt (line 17)) (1.4.1)\n",
            "Requirement already satisfied: fsspec==2024.2.0 in /usr/local/lib/python3.10/dist-packages (from -r requirements_colab.txt (line 18)) (2024.2.0)\n",
            "Requirement already satisfied: gitdb==4.0.11 in /usr/local/lib/python3.10/dist-packages (from -r requirements_colab.txt (line 19)) (4.0.11)\n",
            "Requirement already satisfied: GitPython==3.1.43 in /usr/local/lib/python3.10/dist-packages (from -r requirements_colab.txt (line 20)) (3.1.43)\n",
            "Requirement already satisfied: huggingface==0.0.1 in /usr/local/lib/python3.10/dist-packages (from -r requirements_colab.txt (line 21)) (0.0.1)\n",
            "Requirement already satisfied: huggingface-hub==0.23.0 in /usr/local/lib/python3.10/dist-packages (from -r requirements_colab.txt (line 22)) (0.23.0)\n",
            "Requirement already satisfied: idna==3.7 in /usr/local/lib/python3.10/dist-packages (from -r requirements_colab.txt (line 23)) (3.7)\n",
            "Requirement already satisfied: importlib_resources==6.4.0 in /usr/local/lib/python3.10/dist-packages (from -r requirements_colab.txt (line 24)) (6.4.0)\n",
            "Requirement already satisfied: intel-openmp==2021.4.0 in /usr/local/lib/python3.10/dist-packages (from -r requirements_colab.txt (line 25)) (2021.4.0)\n",
            "Requirement already satisfied: Jinja2==3.1.3 in /usr/local/lib/python3.10/dist-packages (from -r requirements_colab.txt (line 26)) (3.1.3)\n",
            "Requirement already satisfied: joblib==1.4.2 in /usr/local/lib/python3.10/dist-packages (from -r requirements_colab.txt (line 27)) (1.4.2)\n",
            "Requirement already satisfied: kiwisolver==1.4.5 in /usr/local/lib/python3.10/dist-packages (from -r requirements_colab.txt (line 28)) (1.4.5)\n",
            "Requirement already satisfied: MarkupSafe==2.1.5 in /usr/local/lib/python3.10/dist-packages (from -r requirements_colab.txt (line 29)) (2.1.5)\n",
            "Requirement already satisfied: matplotlib==3.9.0 in /usr/local/lib/python3.10/dist-packages (from -r requirements_colab.txt (line 30)) (3.9.0)\n",
            "Requirement already satisfied: mkl==2021.4.0 in /usr/local/lib/python3.10/dist-packages (from -r requirements_colab.txt (line 31)) (2021.4.0)\n",
            "Requirement already satisfied: mpmath==1.3.0 in /usr/local/lib/python3.10/dist-packages (from -r requirements_colab.txt (line 32)) (1.3.0)\n",
            "Requirement already satisfied: multidict==6.0.5 in /usr/local/lib/python3.10/dist-packages (from -r requirements_colab.txt (line 33)) (6.0.5)\n",
            "Requirement already satisfied: multiprocess==0.70.16 in /usr/local/lib/python3.10/dist-packages (from -r requirements_colab.txt (line 34)) (0.70.16)\n",
            "Requirement already satisfied: networkx==3.2.1 in /usr/local/lib/python3.10/dist-packages (from -r requirements_colab.txt (line 35)) (3.2.1)\n",
            "Requirement already satisfied: numpy==1.26.3 in /usr/local/lib/python3.10/dist-packages (from -r requirements_colab.txt (line 36)) (1.26.3)\n",
            "Requirement already satisfied: packaging==24.0 in /usr/local/lib/python3.10/dist-packages (from -r requirements_colab.txt (line 37)) (24.0)\n",
            "Requirement already satisfied: pandas==2.2.2 in /usr/local/lib/python3.10/dist-packages (from -r requirements_colab.txt (line 38)) (2.2.2)\n",
            "Requirement already satisfied: pillow==10.2.0 in /usr/local/lib/python3.10/dist-packages (from -r requirements_colab.txt (line 39)) (10.2.0)\n",
            "Requirement already satisfied: platformdirs==4.2.2 in /usr/local/lib/python3.10/dist-packages (from -r requirements_colab.txt (line 40)) (4.2.2)\n",
            "Requirement already satisfied: protobuf==4.25.3 in /usr/local/lib/python3.10/dist-packages (from -r requirements_colab.txt (line 41)) (4.25.3)\n",
            "Requirement already satisfied: psutil==5.9.8 in /usr/local/lib/python3.10/dist-packages (from -r requirements_colab.txt (line 42)) (5.9.8)\n",
            "Requirement already satisfied: pyarrow==16.1.0 in /usr/local/lib/python3.10/dist-packages (from -r requirements_colab.txt (line 43)) (16.1.0)\n",
            "Requirement already satisfied: pyarrow-hotfix==0.6 in /usr/local/lib/python3.10/dist-packages (from -r requirements_colab.txt (line 44)) (0.6)\n",
            "Requirement already satisfied: pyparsing==3.1.2 in /usr/local/lib/python3.10/dist-packages (from -r requirements_colab.txt (line 45)) (3.1.2)\n",
            "Requirement already satisfied: python-dateutil==2.9.0.post0 in /usr/local/lib/python3.10/dist-packages (from -r requirements_colab.txt (line 46)) (2.9.0.post0)\n",
            "Requirement already satisfied: pytz==2024.1 in /usr/local/lib/python3.10/dist-packages (from -r requirements_colab.txt (line 47)) (2024.1)\n",
            "Requirement already satisfied: PyYAML==6.0.1 in /usr/local/lib/python3.10/dist-packages (from -r requirements_colab.txt (line 48)) (6.0.1)\n",
            "Requirement already satisfied: regex==2024.5.15 in /usr/local/lib/python3.10/dist-packages (from -r requirements_colab.txt (line 49)) (2024.5.15)\n",
            "Requirement already satisfied: requests==2.31.0 in /usr/local/lib/python3.10/dist-packages (from -r requirements_colab.txt (line 50)) (2.31.0)\n",
            "Requirement already satisfied: safetensors==0.4.3 in /usr/local/lib/python3.10/dist-packages (from -r requirements_colab.txt (line 51)) (0.4.3)\n",
            "Requirement already satisfied: scikit-learn==1.4.2 in /usr/local/lib/python3.10/dist-packages (from -r requirements_colab.txt (line 52)) (1.4.2)\n",
            "Requirement already satisfied: scipy==1.13.0 in /usr/local/lib/python3.10/dist-packages (from -r requirements_colab.txt (line 53)) (1.13.0)\n",
            "Requirement already satisfied: seaborn==0.13.2 in /usr/local/lib/python3.10/dist-packages (from -r requirements_colab.txt (line 54)) (0.13.2)\n",
            "Requirement already satisfied: sentry-sdk==2.2.0 in /usr/local/lib/python3.10/dist-packages (from -r requirements_colab.txt (line 55)) (2.2.0)\n",
            "Requirement already satisfied: setproctitle==1.3.3 in /usr/local/lib/python3.10/dist-packages (from -r requirements_colab.txt (line 56)) (1.3.3)\n",
            "Requirement already satisfied: six==1.16.0 in /usr/local/lib/python3.10/dist-packages (from -r requirements_colab.txt (line 57)) (1.16.0)\n",
            "Requirement already satisfied: smmap==5.0.1 in /usr/local/lib/python3.10/dist-packages (from -r requirements_colab.txt (line 58)) (5.0.1)\n",
            "Requirement already satisfied: sympy==1.12 in /usr/local/lib/python3.10/dist-packages (from -r requirements_colab.txt (line 59)) (1.12)\n",
            "Requirement already satisfied: tbb==2021.11.0 in /usr/local/lib/python3.10/dist-packages (from -r requirements_colab.txt (line 60)) (2021.11.0)\n",
            "Requirement already satisfied: threadpoolctl==3.5.0 in /usr/local/lib/python3.10/dist-packages (from -r requirements_colab.txt (line 61)) (3.5.0)\n",
            "Requirement already satisfied: tqdm==4.66.4 in /usr/local/lib/python3.10/dist-packages (from -r requirements_colab.txt (line 62)) (4.66.4)\n",
            "Requirement already satisfied: transformers==4.41.0 in /usr/local/lib/python3.10/dist-packages (from -r requirements_colab.txt (line 63)) (4.41.0)\n",
            "Requirement already satisfied: typing_extensions==4.9.0 in /usr/local/lib/python3.10/dist-packages (from -r requirements_colab.txt (line 64)) (4.9.0)\n",
            "Requirement already satisfied: tzdata==2024.1 in /usr/local/lib/python3.10/dist-packages (from -r requirements_colab.txt (line 65)) (2024.1)\n",
            "Requirement already satisfied: urllib3==2.2.1 in /usr/local/lib/python3.10/dist-packages (from -r requirements_colab.txt (line 66)) (2.2.1)\n",
            "Requirement already satisfied: wandb==0.17.0 in /usr/local/lib/python3.10/dist-packages (from -r requirements_colab.txt (line 67)) (0.17.0)\n",
            "Requirement already satisfied: xxhash==3.4.1 in /usr/local/lib/python3.10/dist-packages (from -r requirements_colab.txt (line 68)) (3.4.1)\n",
            "Requirement already satisfied: yarl==1.9.4 in /usr/local/lib/python3.10/dist-packages (from -r requirements_colab.txt (line 69)) (1.9.4)\n",
            "Requirement already satisfied: tokenizers<0.20,>=0.19 in /usr/local/lib/python3.10/dist-packages (from transformers==4.41.0->-r requirements_colab.txt (line 63)) (0.19.1)\n",
            "Requirement already satisfied: setuptools in /usr/local/lib/python3.10/dist-packages (from wandb==0.17.0->-r requirements_colab.txt (line 67)) (67.7.2)\n"
          ]
        }
      ],
      "source": [
        "!pip install evaluate"
      ]
    },
    {
      "cell_type": "code",
      "execution_count": null,
      "metadata": {
        "colab": {
          "base_uri": "https://localhost:8080/"
        },
        "id": "EmTP5PP2K0GA",
        "outputId": "d9c16f3f-16bc-4895-cdac-30aa5012aab4"
      },
      "outputs": [
        {
          "name": "stdout",
          "output_type": "stream",
          "text": [
            "cuda\n"
          ]
        }
      ],
      "source": [
        "# test gpu:\n",
        "import torch\n",
        "\n",
        "use_cuda = torch.cuda.is_available()\n",
        "device = torch.device(\"cuda\" if use_cuda else \"cpu\")\n",
        "print(device)"
      ]
    },
    {
      "cell_type": "markdown",
      "metadata": {
        "id": "YI4-aP4wJGuF"
      },
      "source": []
    },
    {
      "cell_type": "code",
      "execution_count": null,
      "metadata": {
        "id": "HfvFoGVnJGuG"
      },
      "outputs": [],
      "source": [
        "import os\n",
        "import torch\n",
        "import evaluate\n",
        "import seaborn as sns\n",
        "import matplotlib.pyplot as plt\n",
        "import pandas as pd\n",
        "from tqdm import tqdm\n",
        "from torch.optim import Adam, RMSprop\n",
        "from transformers  import  get_scheduler\n",
        "from sklearn.model_selection import KFold\n",
        "from transformers import AutoTokenizer, AutoModelForSequenceClassification\n",
        "from sklearn.model_selection import KFold\n",
        "import wandb\n",
        "from datetime import datetime\n",
        "import os\n",
        "import shutil\n",
        "import random\n",
        "import numpy as np\n",
        "from itertools import product\n"
      ]
    },
    {
      "cell_type": "markdown",
      "metadata": {
        "id": "hahMpZ91JGuM"
      },
      "source": [
        "utils"
      ]
    },
    {
      "cell_type": "code",
      "execution_count": null,
      "metadata": {
        "colab": {
          "base_uri": "https://localhost:8080/"
        },
        "id": "hYGZxU7UJGuN",
        "outputId": "fbd7ee10-e8b4-48de-e4f7-02841bdd8ad4"
      },
      "outputs": [
        {
          "name": "stdout",
          "output_type": "stream",
          "text": [
            "Loading official JSON ./Oppositional_thinking/MyDrive/Oppositional_thinking/dataset_es_train.json dataset\n",
            "Loading official JSON ./Oppositional_thinking/MyDrive/Oppositional_thinking/dataset_en_train.json dataset\n"
          ]
        }
      ],
      "source": [
        "# utils.py\n",
        "def set_seed(seed):\n",
        "    \"\"\"\n",
        "    Sets the seed to make everything deterministic, for reproducibility of experiments\n",
        "    Parameters:\n",
        "    seed: the number to set the seed to\n",
        "    Return: None\n",
        "    \"\"\"\n",
        "    # Random seed\n",
        "    random.seed(seed)\n",
        "    # Numpy seed\n",
        "    np.random.seed(seed)\n",
        "\n",
        "    # Torch seed\n",
        "    torch.manual_seed(seed)\n",
        "    torch.cuda.manual_seed(seed)\n",
        "    torch.backends.cudnn.deterministic = True\n",
        "    torch.backends.cudnn.benchmark = True\n",
        "\n",
        "    # os seed\n",
        "    os.environ['PYTHONHASHSEED'] = str(seed)\n",
        "\n",
        "def remove_previous_model(folder):\n",
        "    dirs = [x for x in os.listdir(folder) if os.path.isdir(folder+os.sep+x)]\n",
        "    for x in dirs:\n",
        "        shutil.rmtree(folder+os.sep+x, ignore_errors=False, onerror=None)\n",
        "\n",
        "\n",
        "def product_dict(**kwargs):\n",
        "    keys = kwargs.keys()\n",
        "    vals = kwargs.values()\n",
        "    for instance in product(*vals):\n",
        "        yield dict(zip(keys, instance))\n",
        "\n",
        "# mydataset.py\n",
        "class MyDataset(torch.utils.data.Dataset):\n",
        "    def __init__(self, encodings, labels, mode='train'):\n",
        "        self.encodings = encodings\n",
        "        if mode !=\"train\":\n",
        "            self.labels=  [0]*len(encodings)\n",
        "        else: self.labels = labels\n",
        "\n",
        "\n",
        "    def __getitem__(self, idx):\n",
        "        #item = {key: torch.tensor(val[idx]) for key, val in self.encodings.items()}\n",
        "        item = {key: val[idx] for key, val in self.encodings.items()}\n",
        "        item['labels'] = torch.tensor(self.labels[idx])\n",
        "        return item\n",
        "\n",
        "    def __len__(self):\n",
        "        return len(self.labels)\n",
        "\n",
        "# datareader.py\n",
        "import pandas as pd\n",
        "import json\n",
        "\n",
        "BINARY_MAPPING_CRITICAL_POS = {'CONSPIRACY': 0, 'CRITICAL': 1}\n",
        "BINARY_MAPPING_CONSPIRACY_POS = {'CRITICAL': 0, 'CONSPIRACY': 1}\n",
        "\n",
        "CATEGORY_MAPPING_CRITICAL_POS_INVERSE = {0: 'CONSPIRACY', 1: 'CRITICAL'}\n",
        "CATEGORY_MAPPING_CONSPIRACY_POS_INVERSE = {0: 'CRITICAL', 1: 'CONSPIRACY'}\n",
        "\n",
        "TRAIN_DATASET_ES=\"./Oppositional_thinking/MyDrive/Oppositional_thinking/dataset_es_train.json\"\n",
        "TRAIN_DATASET_EN=\"./Oppositional_thinking/MyDrive/Oppositional_thinking/dataset_en_train.json\"\n",
        "#TEST_DATASET_EN =\"./dataset_oppositional/test/dataset_oppositional_test_nolabels/dataset_en_official_test_nolabels.json\"\n",
        "#TEST_DATASET_ES =\"./dataset_oppositional/test/dataset_oppositional_test_nolabels/dataset_en_official_test_nolabels.json\"\n",
        "\n",
        "\n",
        "class PAN24Reader:\n",
        "    def __init__(self):\n",
        "        pass\n",
        "    def read_json_file(self, path):\n",
        "        dataset=[]\n",
        "        print(f'Loading official JSON {path} dataset')\n",
        "        with open(path, 'r', encoding='utf-8') as file:\n",
        "            dataset = json.load(file)\n",
        "        return dataset\n",
        "\n",
        "    def load_dataset_classification(self, path, string_labels=False, positive_class='conspiracy'):\n",
        "        dataset = self.read_json_file(path)\n",
        "        # convert to a format suitable for classification\n",
        "        texts = pd.Series([doc['text'] for doc in dataset])\n",
        "        if string_labels:\n",
        "            classes = pd.Series([doc['category'] for doc in dataset])\n",
        "        else:\n",
        "            if positive_class == 'conspiracy':\n",
        "                binmap = BINARY_MAPPING_CONSPIRACY_POS\n",
        "            elif positive_class == 'critical':\n",
        "                binmap = BINARY_MAPPING_CRITICAL_POS\n",
        "            else:\n",
        "                raise ValueError(f'Unknown positive class: {positive_class}')\n",
        "            classes = [binmap[doc['category']] for doc in dataset]\n",
        "            classes = pd.Series(classes)\n",
        "        ids = pd.Series([doc['id'] for doc in dataset])\n",
        "        data = pd.DataFrame({\"text\": texts, \"id\": ids, \"label\": classes})\n",
        "        return data\n",
        "\n",
        "\n",
        "myReader=PAN24Reader()\n",
        "es_train_df = myReader.load_dataset_classification(TRAIN_DATASET_ES, string_labels=False, positive_class='conspiracy')\n",
        "en_train_df = myReader.load_dataset_classification(TRAIN_DATASET_EN, string_labels=False, positive_class='conspiracy')\n",
        "\n"
      ]
    },
    {
      "cell_type": "markdown",
      "metadata": {
        "id": "LHeNe9N1JGuP"
      },
      "source": [
        "fine_tunning.py"
      ]
    },
    {
      "cell_type": "code",
      "execution_count": null,
      "metadata": {
        "id": "T4EmKT7PJGuQ"
      },
      "outputs": [],
      "source": [
        "def training(_wandb, _model, _train_data, _val_data, _learning_rate, _optimizer_name, _schedule, _epochs,\n",
        "             _tokenizer, _batch_size=32, _padding=\"max_length\", _max_length=512, _truncation=True,\n",
        "             _patience=10, _measure= \"accuracy\", _out=None):\n",
        "    train_encodings = _tokenizer(_train_data[\"text\"].tolist(), max_length=_max_length, truncation=_truncation, padding=_padding, return_tensors=\"pt\")\n",
        "    val_encodings = _tokenizer(_val_data[\"text\"].tolist(), max_length=_max_length, truncation=_truncation, padding=_padding, return_tensors=\"pt\")\n",
        "\n",
        "    train, val = MyDataset(train_encodings, _train_data[\"label\"].tolist()), MyDataset(val_encodings, _val_data[\"label\"].tolist())\n",
        "\n",
        "    train_dataloader, val_dataloader  = torch.utils.data.DataLoader(train, batch_size=_batch_size, shuffle=True), torch.utils.data.DataLoader(val, batch_size=_batch_size)\n",
        "\n",
        "\n",
        "    use_cuda = torch.cuda.is_available()\n",
        "    device = torch.device(\"cuda\" if use_cuda else \"cpu\")\n",
        "    _wandb.log({\"divice\": str(device)})\n",
        "    if use_cuda:\n",
        "        model = _model.cuda()\n",
        "    best_measure, best_model_name, patience = None, None, 0\n",
        "    training_stats = []\n",
        "    # train_eval = evaluate.load(\"accuracy\")\n",
        "    train_eval = evaluate.load(f\"Yeshwant123/{_measure}\")\n",
        "\n",
        "    lr_scheduler, optimizer = None, None\n",
        "    #Here we can specify different methods to optmize the paarameters, initially we can consider Adam and RmsProp\n",
        "\n",
        "    _wandb.log({\"info\": \"Creating the Optimizer and Schedule \"})\n",
        "\n",
        "    lr_scheduler, optimizer = None, None\n",
        "    if _optimizer_name == \"adam\":\n",
        "        optimizer = Adam(_model.parameters(), lr=_learning_rate)\n",
        "    elif _optimizer_name == \"rmsprop\":\n",
        "        optimizer = RMSprop(_model.parameters(), lr=_learning_rate)\n",
        "\n",
        "    #Here we can define different learning rate schedules, to variate de learning rate in each training step. Initially we use\n",
        "    # can use linear learning rate schedule\n",
        "    num_training_steps = _epochs * len(_train_data)\n",
        "    if _schedule==\"linear\":\n",
        "        lr_scheduler = get_scheduler(_schedule, optimizer=optimizer, num_warmup_steps=0, num_training_steps=num_training_steps)\n",
        "\n",
        "\n",
        "    for epoch in range(_epochs):\n",
        "        if patience >= _patience: break\n",
        "        total_loss_train, total_acc_train = 0, 0\n",
        "        total_train_step = 0\n",
        "        for batch in train_dataloader:\n",
        "            total_train_step += 1\n",
        "            # print(\"Epoch \", epoch, \"Batch\", i)\n",
        "            batch = {k: v.to(device) for k, v in batch.items()}\n",
        "            outputs = model(**batch)\n",
        "            loss = outputs.loss\n",
        "            loss.backward()\n",
        "            total_loss_train += loss.item()\n",
        "            logits = outputs.logits\n",
        "            predictions = torch.argmax(logits, dim=-1)\n",
        "            train_eval.add_batch(predictions=predictions, references=batch[\"labels\"])\n",
        "            optimizer.step()\n",
        "            lr_scheduler.step()\n",
        "            optimizer.zero_grad()\n",
        "        total_acc_train = train_eval.compute()\n",
        "\n",
        "        total_eval_steps = 0\n",
        "        total_loss_val, total_acc_val = 0, 0\n",
        "        eval_metric = evaluate.load(f\"Yeshwant123/{_measure}\")\n",
        "        model.eval()\n",
        "        for batch in val_dataloader:\n",
        "            total_eval_steps += 1\n",
        "            batch = {k: v.to(device) for k, v in batch.items()}\n",
        "            with torch.no_grad():\n",
        "                outputs = model(**batch)\n",
        "                loss = outputs.loss\n",
        "                total_loss_val += loss.item()\n",
        "                logits = outputs.logits\n",
        "                predictions = torch.argmax(logits, dim=-1)\n",
        "            eval_metric.add_batch(predictions=predictions, references=batch[\"labels\"])\n",
        "        total_acc_val = eval_metric.compute()\n",
        "\n",
        "        if best_measure is None or (best_measure < total_acc_val[_measure]):  # here you must set your save weights\n",
        "            if best_measure == None: _wandb.log({\"info\": \"It's the first time (epoch) ******************\"})\n",
        "            elif best_measure < total_acc_val[_measure]:\n",
        "                _wandb.log({\"info\": \"In this epoch an improvement was achieved. (epoch) ******************\"})\n",
        "\n",
        "            best_measure = total_acc_val[_measure]\n",
        "            try:\n",
        "                os.makedirs(_out + os.sep + 'models', exist_ok=True)\n",
        "            except OSError as error:\n",
        "                _wandb.log({\"info\": \"Directory '%s' can not be created\"})\n",
        "            # remove the directories\n",
        "            remove_previous_model(_out + os.sep + 'models')\n",
        "            best_model_name = _out + os.sep + 'models/bestmodel_epoch_{}'.format(epoch +1)\n",
        "            _wandb.log({\"info\": \"The current best model is \" + best_model_name + \" \"+ str(best_measure)})\n",
        "\n",
        "            os.makedirs(best_model_name, exist_ok=True)\n",
        "            model.save_pretrained(best_model_name)\n",
        "            patience = 0\n",
        "        else:\n",
        "            patience += 1\n",
        "        training_stats.append(\n",
        "            {\n",
        "                'epoch': epoch + 1,\n",
        "                'Training Loss': total_loss_train / total_train_step,\n",
        "                'Valid. Loss': total_loss_val / total_eval_steps,\n",
        "                f'Valid.{_measure}': total_acc_val[_measure],\n",
        "                f'Training.{_measure}': total_acc_train[_measure]\n",
        "            }\n",
        "        )\n",
        "\n",
        "        _wandb.log({\n",
        "            'epoch': epoch + 1,\n",
        "            'train_loss': total_loss_train / len(train_dataloader),\n",
        "            f'train_{_measure}': total_acc_train[_measure],\n",
        "            'val_loss': total_loss_val / len(val_dataloader),\n",
        "            f'val_{_measure}': total_acc_val[_measure]\n",
        "        })\n",
        "\n",
        "    if best_model_name != None:\n",
        "        model = model.from_pretrained(best_model_name)\n",
        "        _wandb.log({\"info\": \"The final model used to predict the labels of the testing datasets is \"+ best_model_name})\n",
        "\n",
        "    df_stats = pd.DataFrame(data=training_stats)\n",
        "    df_stats = df_stats.set_index('epoch')\n",
        "    df_stats.to_csv(_out + os.sep + \"training_stats.csv\")\n",
        "\n",
        "    _wandb.log({\"info\": df_stats})\n",
        "    myplot = sns.lineplot(data=df_stats, palette=\"tab10\", linewidth=2.5)\n",
        "    fig = myplot.get_figure()\n",
        "    fig.savefig(_out + os.sep + 'loss-figue.png')\n",
        "    plt.close()\n",
        "    return model\n",
        "\n",
        "############################################################################################################################################################################3\n",
        "#VALIDATION ON THE TEST SET\n",
        "\n",
        "def validate(_wandb, _model, _test_data, _tokenizer, _batch_size=32, _padding=\"max_length\", _max_length=512, _truncation=True, _measure=\"accuracy\", evaltype=True):\n",
        "    test_encodings = _tokenizer(_test_data['text'].tolist(), max_length=_max_length, truncation=_truncation, padding=_padding, return_tensors=\"pt\")\n",
        "    _mode = \"train\" if evaltype else \"test\"\n",
        "    test = MyDataset(test_encodings, _test_data[\"label\"].tolist(), mode=_mode)\n",
        "    test_dataloader = torch.utils.data.DataLoader(test, batch_size=_batch_size)\n",
        "\n",
        "    use_cuda = torch.cuda.is_available()\n",
        "    device = torch.device(\"cuda\" if use_cuda else \"cpu\")\n",
        "    if use_cuda:\n",
        "        model = _model.cuda()\n",
        "    eval_metric, out, k = None, None, 0\n",
        "    if evaltype==True:\n",
        "        eval_metric = evaluate.load(f\"Yeshwant123/{_measure}\")\n",
        "\n",
        "    model.eval()\n",
        "    total_loss = 0\n",
        "\n",
        "    for batch in test_dataloader:\n",
        "        batch = {k: v.to(device) for k, v in batch.items()}\n",
        "\n",
        "    with torch.no_grad():\n",
        "                outputs = _model(**batch)\n",
        "                loss = outputs.loss\n",
        "                logits = outputs.logits\n",
        "                predictions = torch.argmax(logits, dim=-1)\n",
        "                if k == 0:\n",
        "                    out = predictions\n",
        "                else:\n",
        "                    out = torch.cat((out, predictions), 0)\n",
        "                k += 1\n",
        "                total_loss += loss.item()\n",
        "                if evaltype:\n",
        "                    eval_metric.add_batch(predictions=predictions, references=batch[\"labels\"])\n",
        "\n",
        "    if evaltype==True:\n",
        "        total_acc_test = eval_metric.compute()\n",
        "        test_mesure = total_acc_test[_measure]\n",
        "        avg_test_loss = total_loss / len(test_dataloader)        # Log the test accuracy and loss to wandb\n",
        "        _wandb.log({\n",
        "            f'test_{_measure}': test_mesure,\n",
        "            'test_avg_loss': avg_test_loss\n",
        "        })\n",
        "    return out\n"
      ]
    },
    {
      "cell_type": "markdown",
      "metadata": {
        "id": "nVzhkZtwJGuT"
      },
      "source": [
        "main.py"
      ]
    },
    {
      "cell_type": "code",
      "execution_count": null,
      "metadata": {
        "colab": {
          "base_uri": "https://localhost:8080/",
          "height": 1000,
          "referenced_widgets": [
            "42d5bd90622e4626b8f73ab130cf846f",
            "a027348f0aaf4a3bb4e354e9b73bd8ef",
            "ffdd2c63a036471ebf0692a844fc12d8",
            "f3c6d847ab604a57aa04ab3f2ba258e2",
            "30e03ce93eb34293bcd87ca7959854a3",
            "7921f8a3b21645d9afded2d1ef2b59ba",
            "9ce3a42132254f7ea112342a71a658c6",
            "eb5dc2642e2345e0a5582a4f94451389",
            "ef4721235ee240d08badd81528eaf79c",
            "aa8399df41354082b2923f1e99075ed9",
            "3407d57d8488404eaff1306a93b3b4ac",
            "7a5d4ee7078b4f67965c4ccb6b793625",
            "3f0b92538fc04fd08cd2e1572de89f84",
            "b71b0e1ce144434c9fc9b4d9f781997c",
            "b822b37bb5cd40e58f423e83a82a61e2",
            "93271ff93bec44f583c1a4622529f1ce",
            "b48d92ae81684a96be46844484e156fb",
            "e7a687efc09840a280c42bf8f3d5e4a5",
            "15bad4d6a1164c70acbc8db7edbd9e66",
            "21f30a65139d4aa6b755660371049a03",
            "7cedcf6632e643b383e8d9c196af693a",
            "ccd6079762884df5b2ec6a5ffb5a47bc",
            "62607de3071e4999951dd21f2d7422c4",
            "929d8dcca0024332b37e7e5c4b6ef00e",
            "3946ec0b82444435bbef194b589ce92d",
            "7551706e14434d37885ece328004c5ec",
            "e8cff45d1e774b3bab4dd6befb10d43c",
            "e67937bd65224880a199beffec88be89",
            "7c987fd2de8b405a8d294975214cbc3d",
            "7092d9f13ee9493f95362b26e23f601e",
            "13e22342799a4323bf3f1059e082827f",
            "e18ed07e2eea4fce8dd7a06d5edc5317"
          ]
        },
        "id": "Tin2G53rJGuU",
        "outputId": "2d956185-59c7-467a-9d83-d915fa7d2013"
      },
      "outputs": [
        {
          "name": "stdout",
          "output_type": "stream",
          "text": [
            "Loading Tokenizer roberta-base\n",
            "Loading Transformer Model roberta-base\n"
          ]
        },
        {
          "name": "stderr",
          "output_type": "stream",
          "text": [
            "Some weights of RobertaForSequenceClassification were not initialized from the model checkpoint at roberta-base and are newly initialized: ['classifier.dense.bias', 'classifier.dense.weight', 'classifier.out_proj.bias', 'classifier.out_proj.weight']\n",
            "You should probably TRAIN this model on a down-stream task to be able to use it for predictions and inference.\n"
          ]
        },
        {
          "data": {
            "text/html": [
              "Tracking run with wandb version 0.17.0"
            ],
            "text/plain": [
              "<IPython.core.display.HTML object>"
            ]
          },
          "metadata": {},
          "output_type": "display_data"
        },
        {
          "data": {
            "text/html": [
              "Run data is saved locally in <code>/content/wandb/run-20240519_191903-vjc9rdge</code>"
            ],
            "text/plain": [
              "<IPython.core.display.HTML object>"
            ]
          },
          "metadata": {},
          "output_type": "display_data"
        },
        {
          "data": {
            "text/html": [
              "Syncing run <strong><a href='https://wandb.ai/davidandreuroqueta/lnr_oppositional_thinking_2024-05-19_19-19-03/runs/vjc9rdge' target=\"_blank\">english_roberta-base_1_fold_0</a></strong> to <a href='https://wandb.ai/davidandreuroqueta/lnr_oppositional_thinking_2024-05-19_19-19-03' target=\"_blank\">Weights & Biases</a> (<a href='https://wandb.me/run' target=\"_blank\">docs</a>)<br/>"
            ],
            "text/plain": [
              "<IPython.core.display.HTML object>"
            ]
          },
          "metadata": {},
          "output_type": "display_data"
        },
        {
          "data": {
            "text/html": [
              " View project at <a href='https://wandb.ai/davidandreuroqueta/lnr_oppositional_thinking_2024-05-19_19-19-03' target=\"_blank\">https://wandb.ai/davidandreuroqueta/lnr_oppositional_thinking_2024-05-19_19-19-03</a>"
            ],
            "text/plain": [
              "<IPython.core.display.HTML object>"
            ]
          },
          "metadata": {},
          "output_type": "display_data"
        },
        {
          "data": {
            "text/html": [
              " View run at <a href='https://wandb.ai/davidandreuroqueta/lnr_oppositional_thinking_2024-05-19_19-19-03/runs/vjc9rdge' target=\"_blank\">https://wandb.ai/davidandreuroqueta/lnr_oppositional_thinking_2024-05-19_19-19-03/runs/vjc9rdge</a>"
            ],
            "text/plain": [
              "<IPython.core.display.HTML object>"
            ]
          },
          "metadata": {},
          "output_type": "display_data"
        },
        {
          "data": {
            "application/vnd.jupyter.widget-view+json": {
              "model_id": "42d5bd90622e4626b8f73ab130cf846f",
              "version_major": 2,
              "version_minor": 0
            },
            "text/plain": [
              "VBox(children=(Label(value='0.014 MB of 0.014 MB uploaded\\r'), FloatProgress(value=1.0, max=1.0)))"
            ]
          },
          "metadata": {},
          "output_type": "display_data"
        },
        {
          "data": {
            "text/html": [
              "<style>\n",
              "    table.wandb td:nth-child(1) { padding: 0 10px; text-align: left ; width: auto;} td:nth-child(2) {text-align: left ; width: 100%}\n",
              "    .wandb-row { display: flex; flex-direction: row; flex-wrap: wrap; justify-content: flex-start; width: 100% }\n",
              "    .wandb-col { display: flex; flex-direction: column; flex-basis: 100%; flex: 1; padding: 10px; }\n",
              "    </style>\n",
              "<div class=\"wandb-row\"><div class=\"wandb-col\"><h3>Run history:</h3><br/><table class=\"wandb\"><tr><td>epoch</td><td>▁▃▅▆█</td></tr><tr><td>test_avg_loss</td><td>▁</td></tr><tr><td>test_mcc</td><td>▁</td></tr><tr><td>train_loss</td><td>█▅▃▂▁</td></tr><tr><td>train_mcc</td><td>▁▅▇▇█</td></tr><tr><td>val_loss</td><td>█▁▁▃▇</td></tr><tr><td>val_mcc</td><td>▁▆▆██</td></tr></table><br/></div><div class=\"wandb-col\"><h3>Run summary:</h3><br/><table class=\"wandb\"><tr><td>divice</td><td>cuda</td></tr><tr><td>epoch</td><td>5</td></tr><tr><td>test_avg_loss</td><td>0.01371</td></tr><tr><td>test_mcc</td><td>0.6864</td></tr><tr><td>train_loss</td><td>0.03544</td></tr><tr><td>train_mcc</td><td>0.98182</td></tr><tr><td>val_loss</td><td>0.38732</td></tr><tr><td>val_mcc</td><td>0.75128</td></tr></table><br/></div></div>"
            ],
            "text/plain": [
              "<IPython.core.display.HTML object>"
            ]
          },
          "metadata": {},
          "output_type": "display_data"
        },
        {
          "data": {
            "text/html": [
              " View run <strong style=\"color:#cdcd00\">english_roberta-base_1_fold_0</strong> at: <a href='https://wandb.ai/davidandreuroqueta/lnr_oppositional_thinking_2024-05-19_19-19-03/runs/vjc9rdge' target=\"_blank\">https://wandb.ai/davidandreuroqueta/lnr_oppositional_thinking_2024-05-19_19-19-03/runs/vjc9rdge</a><br/> View project at: <a href='https://wandb.ai/davidandreuroqueta/lnr_oppositional_thinking_2024-05-19_19-19-03' target=\"_blank\">https://wandb.ai/davidandreuroqueta/lnr_oppositional_thinking_2024-05-19_19-19-03</a><br/>Synced 4 W&B file(s), 1 media file(s), 1 artifact file(s) and 0 other file(s)"
            ],
            "text/plain": [
              "<IPython.core.display.HTML object>"
            ]
          },
          "metadata": {},
          "output_type": "display_data"
        },
        {
          "data": {
            "text/html": [
              "Find logs at: <code>./wandb/run-20240519_191903-vjc9rdge/logs</code>"
            ],
            "text/plain": [
              "<IPython.core.display.HTML object>"
            ]
          },
          "metadata": {},
          "output_type": "display_data"
        },
        {
          "data": {
            "text/html": [
              "Tracking run with wandb version 0.17.0"
            ],
            "text/plain": [
              "<IPython.core.display.HTML object>"
            ]
          },
          "metadata": {},
          "output_type": "display_data"
        },
        {
          "data": {
            "text/html": [
              "Run data is saved locally in <code>/content/wandb/run-20240519_192530-fz0nflp0</code>"
            ],
            "text/plain": [
              "<IPython.core.display.HTML object>"
            ]
          },
          "metadata": {},
          "output_type": "display_data"
        },
        {
          "data": {
            "text/html": [
              "Syncing run <strong><a href='https://wandb.ai/davidandreuroqueta/lnr_oppositional_thinking_2024-05-19_19-19-03/runs/fz0nflp0' target=\"_blank\">english_roberta-base_1_fold_1</a></strong> to <a href='https://wandb.ai/davidandreuroqueta/lnr_oppositional_thinking_2024-05-19_19-19-03' target=\"_blank\">Weights & Biases</a> (<a href='https://wandb.me/run' target=\"_blank\">docs</a>)<br/>"
            ],
            "text/plain": [
              "<IPython.core.display.HTML object>"
            ]
          },
          "metadata": {},
          "output_type": "display_data"
        },
        {
          "data": {
            "text/html": [
              " View project at <a href='https://wandb.ai/davidandreuroqueta/lnr_oppositional_thinking_2024-05-19_19-19-03' target=\"_blank\">https://wandb.ai/davidandreuroqueta/lnr_oppositional_thinking_2024-05-19_19-19-03</a>"
            ],
            "text/plain": [
              "<IPython.core.display.HTML object>"
            ]
          },
          "metadata": {},
          "output_type": "display_data"
        },
        {
          "data": {
            "text/html": [
              " View run at <a href='https://wandb.ai/davidandreuroqueta/lnr_oppositional_thinking_2024-05-19_19-19-03/runs/fz0nflp0' target=\"_blank\">https://wandb.ai/davidandreuroqueta/lnr_oppositional_thinking_2024-05-19_19-19-03/runs/fz0nflp0</a>"
            ],
            "text/plain": [
              "<IPython.core.display.HTML object>"
            ]
          },
          "metadata": {},
          "output_type": "display_data"
        },
        {
          "data": {
            "application/vnd.jupyter.widget-view+json": {
              "model_id": "ef4721235ee240d08badd81528eaf79c",
              "version_major": 2,
              "version_minor": 0
            },
            "text/plain": [
              "VBox(children=(Label(value='0.014 MB of 0.014 MB uploaded\\r'), FloatProgress(value=1.0, max=1.0)))"
            ]
          },
          "metadata": {},
          "output_type": "display_data"
        },
        {
          "data": {
            "text/html": [
              "<style>\n",
              "    table.wandb td:nth-child(1) { padding: 0 10px; text-align: left ; width: auto;} td:nth-child(2) {text-align: left ; width: 100%}\n",
              "    .wandb-row { display: flex; flex-direction: row; flex-wrap: wrap; justify-content: flex-start; width: 100% }\n",
              "    .wandb-col { display: flex; flex-direction: column; flex-basis: 100%; flex: 1; padding: 10px; }\n",
              "    </style>\n",
              "<div class=\"wandb-row\"><div class=\"wandb-col\"><h3>Run history:</h3><br/><table class=\"wandb\"><tr><td>epoch</td><td>▁▃▅▆█</td></tr><tr><td>test_avg_loss</td><td>▁</td></tr><tr><td>test_mcc</td><td>▁</td></tr><tr><td>train_loss</td><td>█▃▂▁▁</td></tr><tr><td>train_mcc</td><td>▁▆▇██</td></tr><tr><td>val_loss</td><td>▅█▁▄▃</td></tr><tr><td>val_mcc</td><td>█▁▆▄▄</td></tr></table><br/></div><div class=\"wandb-col\"><h3>Run summary:</h3><br/><table class=\"wandb\"><tr><td>divice</td><td>cuda</td></tr><tr><td>epoch</td><td>5</td></tr><tr><td>test_avg_loss</td><td>0.0009</td></tr><tr><td>test_mcc</td><td>1.0</td></tr><tr><td>train_loss</td><td>0.00684</td></tr><tr><td>train_mcc</td><td>0.99723</td></tr><tr><td>val_loss</td><td>0.03186</td></tr><tr><td>val_mcc</td><td>0.98344</td></tr></table><br/></div></div>"
            ],
            "text/plain": [
              "<IPython.core.display.HTML object>"
            ]
          },
          "metadata": {},
          "output_type": "display_data"
        },
        {
          "data": {
            "text/html": [
              " View run <strong style=\"color:#cdcd00\">english_roberta-base_1_fold_1</strong> at: <a href='https://wandb.ai/davidandreuroqueta/lnr_oppositional_thinking_2024-05-19_19-19-03/runs/fz0nflp0' target=\"_blank\">https://wandb.ai/davidandreuroqueta/lnr_oppositional_thinking_2024-05-19_19-19-03/runs/fz0nflp0</a><br/> View project at: <a href='https://wandb.ai/davidandreuroqueta/lnr_oppositional_thinking_2024-05-19_19-19-03' target=\"_blank\">https://wandb.ai/davidandreuroqueta/lnr_oppositional_thinking_2024-05-19_19-19-03</a><br/>Synced 4 W&B file(s), 1 media file(s), 1 artifact file(s) and 0 other file(s)"
            ],
            "text/plain": [
              "<IPython.core.display.HTML object>"
            ]
          },
          "metadata": {},
          "output_type": "display_data"
        },
        {
          "data": {
            "text/html": [
              "Find logs at: <code>./wandb/run-20240519_192530-fz0nflp0/logs</code>"
            ],
            "text/plain": [
              "<IPython.core.display.HTML object>"
            ]
          },
          "metadata": {},
          "output_type": "display_data"
        },
        {
          "data": {
            "text/html": [
              "Tracking run with wandb version 0.17.0"
            ],
            "text/plain": [
              "<IPython.core.display.HTML object>"
            ]
          },
          "metadata": {},
          "output_type": "display_data"
        },
        {
          "data": {
            "text/html": [
              "Run data is saved locally in <code>/content/wandb/run-20240519_193158-y280vujf</code>"
            ],
            "text/plain": [
              "<IPython.core.display.HTML object>"
            ]
          },
          "metadata": {},
          "output_type": "display_data"
        },
        {
          "data": {
            "text/html": [
              "Syncing run <strong><a href='https://wandb.ai/davidandreuroqueta/lnr_oppositional_thinking_2024-05-19_19-19-03/runs/y280vujf' target=\"_blank\">english_roberta-base_1_fold_2</a></strong> to <a href='https://wandb.ai/davidandreuroqueta/lnr_oppositional_thinking_2024-05-19_19-19-03' target=\"_blank\">Weights & Biases</a> (<a href='https://wandb.me/run' target=\"_blank\">docs</a>)<br/>"
            ],
            "text/plain": [
              "<IPython.core.display.HTML object>"
            ]
          },
          "metadata": {},
          "output_type": "display_data"
        },
        {
          "data": {
            "text/html": [
              " View project at <a href='https://wandb.ai/davidandreuroqueta/lnr_oppositional_thinking_2024-05-19_19-19-03' target=\"_blank\">https://wandb.ai/davidandreuroqueta/lnr_oppositional_thinking_2024-05-19_19-19-03</a>"
            ],
            "text/plain": [
              "<IPython.core.display.HTML object>"
            ]
          },
          "metadata": {},
          "output_type": "display_data"
        },
        {
          "data": {
            "text/html": [
              " View run at <a href='https://wandb.ai/davidandreuroqueta/lnr_oppositional_thinking_2024-05-19_19-19-03/runs/y280vujf' target=\"_blank\">https://wandb.ai/davidandreuroqueta/lnr_oppositional_thinking_2024-05-19_19-19-03/runs/y280vujf</a>"
            ],
            "text/plain": [
              "<IPython.core.display.HTML object>"
            ]
          },
          "metadata": {},
          "output_type": "display_data"
        },
        {
          "data": {
            "application/vnd.jupyter.widget-view+json": {
              "model_id": "b48d92ae81684a96be46844484e156fb",
              "version_major": 2,
              "version_minor": 0
            },
            "text/plain": [
              "VBox(children=(Label(value='0.014 MB of 0.014 MB uploaded\\r'), FloatProgress(value=1.0, max=1.0)))"
            ]
          },
          "metadata": {},
          "output_type": "display_data"
        },
        {
          "data": {
            "text/html": [
              "<style>\n",
              "    table.wandb td:nth-child(1) { padding: 0 10px; text-align: left ; width: auto;} td:nth-child(2) {text-align: left ; width: 100%}\n",
              "    .wandb-row { display: flex; flex-direction: row; flex-wrap: wrap; justify-content: flex-start; width: 100% }\n",
              "    .wandb-col { display: flex; flex-direction: column; flex-basis: 100%; flex: 1; padding: 10px; }\n",
              "    </style>\n",
              "<div class=\"wandb-row\"><div class=\"wandb-col\"><h3>Run history:</h3><br/><table class=\"wandb\"><tr><td>epoch</td><td>▁▃▅▆█</td></tr><tr><td>test_avg_loss</td><td>▁</td></tr><tr><td>test_mcc</td><td>▁</td></tr><tr><td>train_loss</td><td>█▇▃▂▁</td></tr><tr><td>train_mcc</td><td>▃▁▅▆█</td></tr><tr><td>val_loss</td><td>▁█▇▂▂</td></tr><tr><td>val_mcc</td><td>█▁▄██</td></tr></table><br/></div><div class=\"wandb-col\"><h3>Run summary:</h3><br/><table class=\"wandb\"><tr><td>divice</td><td>cuda</td></tr><tr><td>epoch</td><td>5</td></tr><tr><td>test_avg_loss</td><td>7e-05</td></tr><tr><td>test_mcc</td><td>1.0</td></tr><tr><td>train_loss</td><td>0.00108</td></tr><tr><td>train_mcc</td><td>0.99931</td></tr><tr><td>val_loss</td><td>0.00913</td></tr><tr><td>val_mcc</td><td>0.99722</td></tr></table><br/></div></div>"
            ],
            "text/plain": [
              "<IPython.core.display.HTML object>"
            ]
          },
          "metadata": {},
          "output_type": "display_data"
        },
        {
          "data": {
            "text/html": [
              " View run <strong style=\"color:#cdcd00\">english_roberta-base_1_fold_2</strong> at: <a href='https://wandb.ai/davidandreuroqueta/lnr_oppositional_thinking_2024-05-19_19-19-03/runs/y280vujf' target=\"_blank\">https://wandb.ai/davidandreuroqueta/lnr_oppositional_thinking_2024-05-19_19-19-03/runs/y280vujf</a><br/> View project at: <a href='https://wandb.ai/davidandreuroqueta/lnr_oppositional_thinking_2024-05-19_19-19-03' target=\"_blank\">https://wandb.ai/davidandreuroqueta/lnr_oppositional_thinking_2024-05-19_19-19-03</a><br/>Synced 4 W&B file(s), 1 media file(s), 1 artifact file(s) and 0 other file(s)"
            ],
            "text/plain": [
              "<IPython.core.display.HTML object>"
            ]
          },
          "metadata": {},
          "output_type": "display_data"
        },
        {
          "data": {
            "text/html": [
              "Find logs at: <code>./wandb/run-20240519_193158-y280vujf/logs</code>"
            ],
            "text/plain": [
              "<IPython.core.display.HTML object>"
            ]
          },
          "metadata": {},
          "output_type": "display_data"
        },
        {
          "data": {
            "text/html": [
              "Tracking run with wandb version 0.17.0"
            ],
            "text/plain": [
              "<IPython.core.display.HTML object>"
            ]
          },
          "metadata": {},
          "output_type": "display_data"
        },
        {
          "data": {
            "text/html": [
              "Run data is saved locally in <code>/content/wandb/run-20240519_193820-yshdh99n</code>"
            ],
            "text/plain": [
              "<IPython.core.display.HTML object>"
            ]
          },
          "metadata": {},
          "output_type": "display_data"
        },
        {
          "data": {
            "text/html": [
              "Syncing run <strong><a href='https://wandb.ai/davidandreuroqueta/lnr_oppositional_thinking_2024-05-19_19-19-03/runs/yshdh99n' target=\"_blank\">english_roberta-base_1_fold_3</a></strong> to <a href='https://wandb.ai/davidandreuroqueta/lnr_oppositional_thinking_2024-05-19_19-19-03' target=\"_blank\">Weights & Biases</a> (<a href='https://wandb.me/run' target=\"_blank\">docs</a>)<br/>"
            ],
            "text/plain": [
              "<IPython.core.display.HTML object>"
            ]
          },
          "metadata": {},
          "output_type": "display_data"
        },
        {
          "data": {
            "text/html": [
              " View project at <a href='https://wandb.ai/davidandreuroqueta/lnr_oppositional_thinking_2024-05-19_19-19-03' target=\"_blank\">https://wandb.ai/davidandreuroqueta/lnr_oppositional_thinking_2024-05-19_19-19-03</a>"
            ],
            "text/plain": [
              "<IPython.core.display.HTML object>"
            ]
          },
          "metadata": {},
          "output_type": "display_data"
        },
        {
          "data": {
            "text/html": [
              " View run at <a href='https://wandb.ai/davidandreuroqueta/lnr_oppositional_thinking_2024-05-19_19-19-03/runs/yshdh99n' target=\"_blank\">https://wandb.ai/davidandreuroqueta/lnr_oppositional_thinking_2024-05-19_19-19-03/runs/yshdh99n</a>"
            ],
            "text/plain": [
              "<IPython.core.display.HTML object>"
            ]
          },
          "metadata": {},
          "output_type": "display_data"
        },
        {
          "data": {
            "application/vnd.jupyter.widget-view+json": {
              "model_id": "3946ec0b82444435bbef194b589ce92d",
              "version_major": 2,
              "version_minor": 0
            },
            "text/plain": [
              "VBox(children=(Label(value='0.013 MB of 0.013 MB uploaded\\r'), FloatProgress(value=1.0, max=1.0)))"
            ]
          },
          "metadata": {},
          "output_type": "display_data"
        },
        {
          "data": {
            "text/html": [
              "<style>\n",
              "    table.wandb td:nth-child(1) { padding: 0 10px; text-align: left ; width: auto;} td:nth-child(2) {text-align: left ; width: 100%}\n",
              "    .wandb-row { display: flex; flex-direction: row; flex-wrap: wrap; justify-content: flex-start; width: 100% }\n",
              "    .wandb-col { display: flex; flex-direction: column; flex-basis: 100%; flex: 1; padding: 10px; }\n",
              "    </style>\n",
              "<div class=\"wandb-row\"><div class=\"wandb-col\"><h3>Run history:</h3><br/><table class=\"wandb\"><tr><td>epoch</td><td>▁▃▅▆█</td></tr><tr><td>test_avg_loss</td><td>▁</td></tr><tr><td>test_mcc</td><td>▁</td></tr><tr><td>train_loss</td><td>█▂▁▁▁</td></tr><tr><td>train_mcc</td><td>▁▇▇██</td></tr><tr><td>val_loss</td><td>█▁▃▁▁</td></tr><tr><td>val_mcc</td><td>▁▁▁▁▁</td></tr></table><br/></div><div class=\"wandb-col\"><h3>Run summary:</h3><br/><table class=\"wandb\"><tr><td>divice</td><td>cuda</td></tr><tr><td>epoch</td><td>5</td></tr><tr><td>test_avg_loss</td><td>1e-05</td></tr><tr><td>test_mcc</td><td>1.0</td></tr><tr><td>train_loss</td><td>9e-05</td></tr><tr><td>train_mcc</td><td>1.0</td></tr><tr><td>val_loss</td><td>0.00012</td></tr><tr><td>val_mcc</td><td>1.0</td></tr></table><br/></div></div>"
            ],
            "text/plain": [
              "<IPython.core.display.HTML object>"
            ]
          },
          "metadata": {},
          "output_type": "display_data"
        },
        {
          "data": {
            "text/html": [
              " View run <strong style=\"color:#cdcd00\">english_roberta-base_1_fold_3</strong> at: <a href='https://wandb.ai/davidandreuroqueta/lnr_oppositional_thinking_2024-05-19_19-19-03/runs/yshdh99n' target=\"_blank\">https://wandb.ai/davidandreuroqueta/lnr_oppositional_thinking_2024-05-19_19-19-03/runs/yshdh99n</a><br/> View project at: <a href='https://wandb.ai/davidandreuroqueta/lnr_oppositional_thinking_2024-05-19_19-19-03' target=\"_blank\">https://wandb.ai/davidandreuroqueta/lnr_oppositional_thinking_2024-05-19_19-19-03</a><br/>Synced 4 W&B file(s), 1 media file(s), 1 artifact file(s) and 0 other file(s)"
            ],
            "text/plain": [
              "<IPython.core.display.HTML object>"
            ]
          },
          "metadata": {},
          "output_type": "display_data"
        },
        {
          "data": {
            "text/html": [
              "Find logs at: <code>./wandb/run-20240519_193820-yshdh99n/logs</code>"
            ],
            "text/plain": [
              "<IPython.core.display.HTML object>"
            ]
          },
          "metadata": {},
          "output_type": "display_data"
        },
        {
          "data": {
            "text/html": [
              "Tracking run with wandb version 0.17.0"
            ],
            "text/plain": [
              "<IPython.core.display.HTML object>"
            ]
          },
          "metadata": {},
          "output_type": "display_data"
        },
        {
          "data": {
            "text/html": [
              "Run data is saved locally in <code>/content/wandb/run-20240519_194444-uiipx12w</code>"
            ],
            "text/plain": [
              "<IPython.core.display.HTML object>"
            ]
          },
          "metadata": {},
          "output_type": "display_data"
        },
        {
          "data": {
            "text/html": [
              "Syncing run <strong><a href='https://wandb.ai/davidandreuroqueta/lnr_oppositional_thinking_2024-05-19_19-19-03/runs/uiipx12w' target=\"_blank\">english_roberta-base_1_fold_4</a></strong> to <a href='https://wandb.ai/davidandreuroqueta/lnr_oppositional_thinking_2024-05-19_19-19-03' target=\"_blank\">Weights & Biases</a> (<a href='https://wandb.me/run' target=\"_blank\">docs</a>)<br/>"
            ],
            "text/plain": [
              "<IPython.core.display.HTML object>"
            ]
          },
          "metadata": {},
          "output_type": "display_data"
        },
        {
          "data": {
            "text/html": [
              " View project at <a href='https://wandb.ai/davidandreuroqueta/lnr_oppositional_thinking_2024-05-19_19-19-03' target=\"_blank\">https://wandb.ai/davidandreuroqueta/lnr_oppositional_thinking_2024-05-19_19-19-03</a>"
            ],
            "text/plain": [
              "<IPython.core.display.HTML object>"
            ]
          },
          "metadata": {},
          "output_type": "display_data"
        },
        {
          "data": {
            "text/html": [
              " View run at <a href='https://wandb.ai/davidandreuroqueta/lnr_oppositional_thinking_2024-05-19_19-19-03/runs/uiipx12w' target=\"_blank\">https://wandb.ai/davidandreuroqueta/lnr_oppositional_thinking_2024-05-19_19-19-03/runs/uiipx12w</a>"
            ],
            "text/plain": [
              "<IPython.core.display.HTML object>"
            ]
          },
          "metadata": {},
          "output_type": "display_data"
        }
      ],
      "source": [
        "# Get current date and time\n",
        "current_datetime = datetime.now()\n",
        "\n",
        "# Format it to include hours, minutes, and seconds\n",
        "formatted_datetime = current_datetime.strftime(\"%Y-%m-%d_%H-%M-%S\")\n",
        "\n",
        "\n",
        "wandb.login()\n",
        "\n",
        "SEED=1234\n",
        "set_seed(SEED)\n",
        "\n",
        "preconfig = {\n",
        "    0: {\n",
        "        \"lang\": \"english\",\n",
        "        \"model_name\": \"roberta-base\",\n",
        "    },\n",
        "    1: {\n",
        "        \"lang\": \"english\",\n",
        "        \"model_name\": \"microsoft/deberta-base\",\n",
        "    },\n",
        "    # 2: {\n",
        "    #     \"lang\": \"spanish\",\n",
        "    #     \"model_name\": \"dccuchile/bert-base-spanish-wwm-uncased\",\n",
        "    # },\n",
        "    # 3: {\n",
        "    #     \"lang\": \"spanish\",\n",
        "    #     \"model_name\": \"PlanTL-GOB-ES/roberta-base-bne\",\n",
        "    # },\n",
        "    # 4: {\n",
        "    #     \"lang\": \"spanish\",\n",
        "    #     \"model_name\": \"bert-base-multilingual-uncased\"\n",
        "    # }\n",
        "}\n",
        "\n",
        "hyperparams = {\n",
        "    \"optimizer_name\": [\"adam\", \"rmsprop\"], # [\"adam\", \"rmsprop\", \"sgd\"]\n",
        "    \"learning\": [0.5e-5, 1e-6], # [0.5e-5, 1e-5, 0.5e-6, 1e-6\n",
        "    \"schedule\": [\"linear\", \"cosine\"], # [\"linear\", \"cosine\", \"constant\"]\n",
        "    \"patience\": [5, 10], # [3, 5, 10]\n",
        "    \"epochs\": [5, 20], # [5, 10, 20]\n",
        "    \"measure\": [\"mcc\"],\n",
        "    \"batch_size\": [32], # [16, 32, 64, 128]\n",
        "    \"max_length\": [128]\n",
        "}\n",
        "\n",
        "# epochs = 5 #[5, 10, 20]\n",
        "# batch_size = 32 #[16, 32, 64, 128]\n",
        "# measure = \"mcc\"\n",
        "# patience = 3 #[5, 10]\n",
        "# max_length = 128 #[This value can be estimated on the training set]\n",
        "# Define KFold cross-validation\n",
        "kf = KFold(n_splits=5)\n",
        "\n",
        "# For each preconfiguration\n",
        "for i, preconfig in preconfig.items():\n",
        "    lang = preconfig[\"lang\"]\n",
        "    model_name = preconfig[\"model_name\"]\n",
        "\n",
        "    if lang == \"spanish\":\n",
        "        X= es_train_df\n",
        "    elif lang == \"english\":\n",
        "        X= en_train_df\n",
        "\n",
        "    # Start a parent run for this preconfiguration\n",
        "    # parent_run = wandb.init(project='lnr_oppositional_thinking',\n",
        "    #                         entity='davidandreuroqueta',\n",
        "    #                         group=f'{lang}_{model_name}',\n",
        "    #                         job_type='model')\n",
        "    # parent_run.config.update(preconfig)\n",
        "    # parent_run.config.update({\"SEED\":SEED})\n",
        "\n",
        "    print(\"Loading Tokenizer \" + model_name)\n",
        "    tokenizer = AutoTokenizer.from_pretrained(model_name)\n",
        "\n",
        "    # Initialize a counter for the runs\n",
        "    run_counter = 0\n",
        "\n",
        "    # For each hyperparameter configuration\n",
        "    for config in product_dict(**hyperparams):\n",
        "        run_counter += 1\n",
        "        # Start a child run for this hyperparameter configuration\n",
        "        # with wandb.init(project='lnr_oppositional_thinking',\n",
        "        #                 entity='davidandreuroqueta',\n",
        "        #                 group=f'{lang}_{model_name}',\n",
        "        #                 job_type='hyperparam-tuning',\n",
        "        #                 name=f'{lang}_{model_name}_{run_counter}',\n",
        "        #                 ) as run:\n",
        "        #     # Log hyperparameters\n",
        "        #     run.config.update(config)\n",
        "\n",
        "        # For each fold\n",
        "        for fold, (train_index, val_index) in enumerate(kf.split(X)):\n",
        "            X_train, X_val = X.iloc[train_index], X.iloc[val_index]\n",
        "\n",
        "            # Start a child run for this fold\n",
        "            with wandb.init(project=f'lnr_oppositional_thinking_{formatted_datetime}',\n",
        "                            entity='davidandreuroqueta',\n",
        "                            group=f'{lang}_{model_name}',\n",
        "                            job_type=f'hyperparam-tuning-{run_counter}',\n",
        "                            name=f'{lang}_{model_name}_{run_counter}_fold_{fold}'\n",
        "                            ) as fold_run:\n",
        "                fold_run.config.update(preconfig)\n",
        "                fold_run.config.update(config)\n",
        "                fold_run.config.update({\"SEED\":SEED})\n",
        "\n",
        "                # Log the fold number\n",
        "                fold_run.config.update({\"fold\": fold + 1})\n",
        "\n",
        "                wandb.log({\"info\": \"Loading Transformer Model \" + model_name})\n",
        "                model = AutoModelForSequenceClassification.from_pretrained(model_name, num_labels=2)\n",
        "\n",
        "\n",
        "                # Train and validate your model, log metrics, etc.\n",
        "                # ...\n",
        "                # FINE-TUNING the model and obtaining the best model across all epochs\n",
        "                fineTmodel = training(_wandb=fold_run, _model=model, _train_data=X_train, _val_data=X_val,\n",
        "                                    _learning_rate=config[\"learning\"], _optimizer_name=config[\"optimizer_name\"],\n",
        "                                    _schedule=config[\"schedule\"], _epochs=config[\"epochs\"], _tokenizer=tokenizer,\n",
        "                                    _batch_size=config[\"batch_size\"], _padding=\"max_length\", _max_length=config[\"max_length\"],\n",
        "                                    _truncation=True, _patience=config[\"patience\"], _measure=config[\"measure\"], _out=\"./out\")\n",
        "\n",
        "                # VALIDATING OR PREDICTING on the test partition, this time I'm using the validation set, but you have to use the test set.\n",
        "                preds = validate(_wandb=fold_run, _model=fineTmodel, _test_data=X_val, _tokenizer=tokenizer,\n",
        "                                _batch_size=config[\"batch_size\"], _padding=\"max_length\", _max_length=config[\"max_length\"],\n",
        "                                _truncation=True, _measure=config[\"measure\"], evaltype=True)\n",
        "\n",
        "    # End the parent run\n",
        "    # parent_run.finish()\n"
      ]
    }
  ],
  "metadata": {
    "accelerator": "GPU",
    "colab": {
      "gpuType": "T4",
      "provenance": []
    },
    "kernelspec": {
      "display_name": "Python 3",
      "name": "python3"
    },
    "language_info": {
      "codemirror_mode": {
        "name": "ipython",
        "version": 3
      },
      "file_extension": ".py",
      "mimetype": "text/x-python",
      "name": "python",
      "nbconvert_exporter": "python",
      "pygments_lexer": "ipython3",
      "version": "3.9.13"
    },
    "widgets": {
      "application/vnd.jupyter.widget-state+json": {
        "13e22342799a4323bf3f1059e082827f": {
          "model_module": "@jupyter-widgets/base",
          "model_module_version": "1.2.0",
          "model_name": "LayoutModel",
          "state": {
            "_model_module": "@jupyter-widgets/base",
            "_model_module_version": "1.2.0",
            "_model_name": "LayoutModel",
            "_view_count": null,
            "_view_module": "@jupyter-widgets/base",
            "_view_module_version": "1.2.0",
            "_view_name": "LayoutView",
            "align_content": null,
            "align_items": null,
            "align_self": null,
            "border": null,
            "bottom": null,
            "display": null,
            "flex": null,
            "flex_flow": null,
            "grid_area": null,
            "grid_auto_columns": null,
            "grid_auto_flow": null,
            "grid_auto_rows": null,
            "grid_column": null,
            "grid_gap": null,
            "grid_row": null,
            "grid_template_areas": null,
            "grid_template_columns": null,
            "grid_template_rows": null,
            "height": null,
            "justify_content": null,
            "justify_items": null,
            "left": null,
            "margin": null,
            "max_height": null,
            "max_width": null,
            "min_height": null,
            "min_width": null,
            "object_fit": null,
            "object_position": null,
            "order": null,
            "overflow": null,
            "overflow_x": null,
            "overflow_y": null,
            "padding": null,
            "right": null,
            "top": null,
            "visibility": null,
            "width": null
          }
        },
        "15bad4d6a1164c70acbc8db7edbd9e66": {
          "model_module": "@jupyter-widgets/controls",
          "model_module_version": "1.5.0",
          "model_name": "FloatProgressModel",
          "state": {
            "_dom_classes": [],
            "_model_module": "@jupyter-widgets/controls",
            "_model_module_version": "1.5.0",
            "_model_name": "FloatProgressModel",
            "_view_count": null,
            "_view_module": "@jupyter-widgets/controls",
            "_view_module_version": "1.5.0",
            "_view_name": "ProgressView",
            "bar_style": "",
            "description": "",
            "description_tooltip": null,
            "layout": "IPY_MODEL_62607de3071e4999951dd21f2d7422c4",
            "max": 1,
            "min": 0,
            "orientation": "horizontal",
            "style": "IPY_MODEL_929d8dcca0024332b37e7e5c4b6ef00e",
            "value": 1
          }
        },
        "21f30a65139d4aa6b755660371049a03": {
          "model_module": "@jupyter-widgets/base",
          "model_module_version": "1.2.0",
          "model_name": "LayoutModel",
          "state": {
            "_model_module": "@jupyter-widgets/base",
            "_model_module_version": "1.2.0",
            "_model_name": "LayoutModel",
            "_view_count": null,
            "_view_module": "@jupyter-widgets/base",
            "_view_module_version": "1.2.0",
            "_view_name": "LayoutView",
            "align_content": null,
            "align_items": null,
            "align_self": null,
            "border": null,
            "bottom": null,
            "display": null,
            "flex": null,
            "flex_flow": null,
            "grid_area": null,
            "grid_auto_columns": null,
            "grid_auto_flow": null,
            "grid_auto_rows": null,
            "grid_column": null,
            "grid_gap": null,
            "grid_row": null,
            "grid_template_areas": null,
            "grid_template_columns": null,
            "grid_template_rows": null,
            "height": null,
            "justify_content": null,
            "justify_items": null,
            "left": null,
            "margin": null,
            "max_height": null,
            "max_width": null,
            "min_height": null,
            "min_width": null,
            "object_fit": null,
            "object_position": null,
            "order": null,
            "overflow": null,
            "overflow_x": null,
            "overflow_y": null,
            "padding": null,
            "right": null,
            "top": null,
            "visibility": null,
            "width": null
          }
        },
        "30e03ce93eb34293bcd87ca7959854a3": {
          "model_module": "@jupyter-widgets/base",
          "model_module_version": "1.2.0",
          "model_name": "LayoutModel",
          "state": {
            "_model_module": "@jupyter-widgets/base",
            "_model_module_version": "1.2.0",
            "_model_name": "LayoutModel",
            "_view_count": null,
            "_view_module": "@jupyter-widgets/base",
            "_view_module_version": "1.2.0",
            "_view_name": "LayoutView",
            "align_content": null,
            "align_items": null,
            "align_self": null,
            "border": null,
            "bottom": null,
            "display": null,
            "flex": null,
            "flex_flow": null,
            "grid_area": null,
            "grid_auto_columns": null,
            "grid_auto_flow": null,
            "grid_auto_rows": null,
            "grid_column": null,
            "grid_gap": null,
            "grid_row": null,
            "grid_template_areas": null,
            "grid_template_columns": null,
            "grid_template_rows": null,
            "height": null,
            "justify_content": null,
            "justify_items": null,
            "left": null,
            "margin": null,
            "max_height": null,
            "max_width": null,
            "min_height": null,
            "min_width": null,
            "object_fit": null,
            "object_position": null,
            "order": null,
            "overflow": null,
            "overflow_x": null,
            "overflow_y": null,
            "padding": null,
            "right": null,
            "top": null,
            "visibility": null,
            "width": null
          }
        },
        "3407d57d8488404eaff1306a93b3b4ac": {
          "model_module": "@jupyter-widgets/controls",
          "model_module_version": "1.5.0",
          "model_name": "FloatProgressModel",
          "state": {
            "_dom_classes": [],
            "_model_module": "@jupyter-widgets/controls",
            "_model_module_version": "1.5.0",
            "_model_name": "FloatProgressModel",
            "_view_count": null,
            "_view_module": "@jupyter-widgets/controls",
            "_view_module_version": "1.5.0",
            "_view_name": "ProgressView",
            "bar_style": "",
            "description": "",
            "description_tooltip": null,
            "layout": "IPY_MODEL_b822b37bb5cd40e58f423e83a82a61e2",
            "max": 1,
            "min": 0,
            "orientation": "horizontal",
            "style": "IPY_MODEL_93271ff93bec44f583c1a4622529f1ce",
            "value": 1
          }
        },
        "3946ec0b82444435bbef194b589ce92d": {
          "model_module": "@jupyter-widgets/controls",
          "model_module_version": "1.5.0",
          "model_name": "VBoxModel",
          "state": {
            "_dom_classes": [],
            "_model_module": "@jupyter-widgets/controls",
            "_model_module_version": "1.5.0",
            "_model_name": "VBoxModel",
            "_view_count": null,
            "_view_module": "@jupyter-widgets/controls",
            "_view_module_version": "1.5.0",
            "_view_name": "VBoxView",
            "box_style": "",
            "children": [
              "IPY_MODEL_7551706e14434d37885ece328004c5ec",
              "IPY_MODEL_e8cff45d1e774b3bab4dd6befb10d43c"
            ],
            "layout": "IPY_MODEL_e67937bd65224880a199beffec88be89"
          }
        },
        "3f0b92538fc04fd08cd2e1572de89f84": {
          "model_module": "@jupyter-widgets/base",
          "model_module_version": "1.2.0",
          "model_name": "LayoutModel",
          "state": {
            "_model_module": "@jupyter-widgets/base",
            "_model_module_version": "1.2.0",
            "_model_name": "LayoutModel",
            "_view_count": null,
            "_view_module": "@jupyter-widgets/base",
            "_view_module_version": "1.2.0",
            "_view_name": "LayoutView",
            "align_content": null,
            "align_items": null,
            "align_self": null,
            "border": null,
            "bottom": null,
            "display": null,
            "flex": null,
            "flex_flow": null,
            "grid_area": null,
            "grid_auto_columns": null,
            "grid_auto_flow": null,
            "grid_auto_rows": null,
            "grid_column": null,
            "grid_gap": null,
            "grid_row": null,
            "grid_template_areas": null,
            "grid_template_columns": null,
            "grid_template_rows": null,
            "height": null,
            "justify_content": null,
            "justify_items": null,
            "left": null,
            "margin": null,
            "max_height": null,
            "max_width": null,
            "min_height": null,
            "min_width": null,
            "object_fit": null,
            "object_position": null,
            "order": null,
            "overflow": null,
            "overflow_x": null,
            "overflow_y": null,
            "padding": null,
            "right": null,
            "top": null,
            "visibility": null,
            "width": null
          }
        },
        "42d5bd90622e4626b8f73ab130cf846f": {
          "model_module": "@jupyter-widgets/controls",
          "model_module_version": "1.5.0",
          "model_name": "VBoxModel",
          "state": {
            "_dom_classes": [],
            "_model_module": "@jupyter-widgets/controls",
            "_model_module_version": "1.5.0",
            "_model_name": "VBoxModel",
            "_view_count": null,
            "_view_module": "@jupyter-widgets/controls",
            "_view_module_version": "1.5.0",
            "_view_name": "VBoxView",
            "box_style": "",
            "children": [
              "IPY_MODEL_a027348f0aaf4a3bb4e354e9b73bd8ef",
              "IPY_MODEL_ffdd2c63a036471ebf0692a844fc12d8"
            ],
            "layout": "IPY_MODEL_f3c6d847ab604a57aa04ab3f2ba258e2"
          }
        },
        "62607de3071e4999951dd21f2d7422c4": {
          "model_module": "@jupyter-widgets/base",
          "model_module_version": "1.2.0",
          "model_name": "LayoutModel",
          "state": {
            "_model_module": "@jupyter-widgets/base",
            "_model_module_version": "1.2.0",
            "_model_name": "LayoutModel",
            "_view_count": null,
            "_view_module": "@jupyter-widgets/base",
            "_view_module_version": "1.2.0",
            "_view_name": "LayoutView",
            "align_content": null,
            "align_items": null,
            "align_self": null,
            "border": null,
            "bottom": null,
            "display": null,
            "flex": null,
            "flex_flow": null,
            "grid_area": null,
            "grid_auto_columns": null,
            "grid_auto_flow": null,
            "grid_auto_rows": null,
            "grid_column": null,
            "grid_gap": null,
            "grid_row": null,
            "grid_template_areas": null,
            "grid_template_columns": null,
            "grid_template_rows": null,
            "height": null,
            "justify_content": null,
            "justify_items": null,
            "left": null,
            "margin": null,
            "max_height": null,
            "max_width": null,
            "min_height": null,
            "min_width": null,
            "object_fit": null,
            "object_position": null,
            "order": null,
            "overflow": null,
            "overflow_x": null,
            "overflow_y": null,
            "padding": null,
            "right": null,
            "top": null,
            "visibility": null,
            "width": null
          }
        },
        "7092d9f13ee9493f95362b26e23f601e": {
          "model_module": "@jupyter-widgets/controls",
          "model_module_version": "1.5.0",
          "model_name": "DescriptionStyleModel",
          "state": {
            "_model_module": "@jupyter-widgets/controls",
            "_model_module_version": "1.5.0",
            "_model_name": "DescriptionStyleModel",
            "_view_count": null,
            "_view_module": "@jupyter-widgets/base",
            "_view_module_version": "1.2.0",
            "_view_name": "StyleView",
            "description_width": ""
          }
        },
        "7551706e14434d37885ece328004c5ec": {
          "model_module": "@jupyter-widgets/controls",
          "model_module_version": "1.5.0",
          "model_name": "LabelModel",
          "state": {
            "_dom_classes": [],
            "_model_module": "@jupyter-widgets/controls",
            "_model_module_version": "1.5.0",
            "_model_name": "LabelModel",
            "_view_count": null,
            "_view_module": "@jupyter-widgets/controls",
            "_view_module_version": "1.5.0",
            "_view_name": "LabelView",
            "description": "",
            "description_tooltip": null,
            "layout": "IPY_MODEL_7c987fd2de8b405a8d294975214cbc3d",
            "placeholder": "​",
            "style": "IPY_MODEL_7092d9f13ee9493f95362b26e23f601e",
            "value": "0.013 MB of 0.013 MB uploaded\r"
          }
        },
        "7921f8a3b21645d9afded2d1ef2b59ba": {
          "model_module": "@jupyter-widgets/controls",
          "model_module_version": "1.5.0",
          "model_name": "DescriptionStyleModel",
          "state": {
            "_model_module": "@jupyter-widgets/controls",
            "_model_module_version": "1.5.0",
            "_model_name": "DescriptionStyleModel",
            "_view_count": null,
            "_view_module": "@jupyter-widgets/base",
            "_view_module_version": "1.2.0",
            "_view_name": "StyleView",
            "description_width": ""
          }
        },
        "7a5d4ee7078b4f67965c4ccb6b793625": {
          "model_module": "@jupyter-widgets/base",
          "model_module_version": "1.2.0",
          "model_name": "LayoutModel",
          "state": {
            "_model_module": "@jupyter-widgets/base",
            "_model_module_version": "1.2.0",
            "_model_name": "LayoutModel",
            "_view_count": null,
            "_view_module": "@jupyter-widgets/base",
            "_view_module_version": "1.2.0",
            "_view_name": "LayoutView",
            "align_content": null,
            "align_items": null,
            "align_self": null,
            "border": null,
            "bottom": null,
            "display": null,
            "flex": null,
            "flex_flow": null,
            "grid_area": null,
            "grid_auto_columns": null,
            "grid_auto_flow": null,
            "grid_auto_rows": null,
            "grid_column": null,
            "grid_gap": null,
            "grid_row": null,
            "grid_template_areas": null,
            "grid_template_columns": null,
            "grid_template_rows": null,
            "height": null,
            "justify_content": null,
            "justify_items": null,
            "left": null,
            "margin": null,
            "max_height": null,
            "max_width": null,
            "min_height": null,
            "min_width": null,
            "object_fit": null,
            "object_position": null,
            "order": null,
            "overflow": null,
            "overflow_x": null,
            "overflow_y": null,
            "padding": null,
            "right": null,
            "top": null,
            "visibility": null,
            "width": null
          }
        },
        "7c987fd2de8b405a8d294975214cbc3d": {
          "model_module": "@jupyter-widgets/base",
          "model_module_version": "1.2.0",
          "model_name": "LayoutModel",
          "state": {
            "_model_module": "@jupyter-widgets/base",
            "_model_module_version": "1.2.0",
            "_model_name": "LayoutModel",
            "_view_count": null,
            "_view_module": "@jupyter-widgets/base",
            "_view_module_version": "1.2.0",
            "_view_name": "LayoutView",
            "align_content": null,
            "align_items": null,
            "align_self": null,
            "border": null,
            "bottom": null,
            "display": null,
            "flex": null,
            "flex_flow": null,
            "grid_area": null,
            "grid_auto_columns": null,
            "grid_auto_flow": null,
            "grid_auto_rows": null,
            "grid_column": null,
            "grid_gap": null,
            "grid_row": null,
            "grid_template_areas": null,
            "grid_template_columns": null,
            "grid_template_rows": null,
            "height": null,
            "justify_content": null,
            "justify_items": null,
            "left": null,
            "margin": null,
            "max_height": null,
            "max_width": null,
            "min_height": null,
            "min_width": null,
            "object_fit": null,
            "object_position": null,
            "order": null,
            "overflow": null,
            "overflow_x": null,
            "overflow_y": null,
            "padding": null,
            "right": null,
            "top": null,
            "visibility": null,
            "width": null
          }
        },
        "7cedcf6632e643b383e8d9c196af693a": {
          "model_module": "@jupyter-widgets/base",
          "model_module_version": "1.2.0",
          "model_name": "LayoutModel",
          "state": {
            "_model_module": "@jupyter-widgets/base",
            "_model_module_version": "1.2.0",
            "_model_name": "LayoutModel",
            "_view_count": null,
            "_view_module": "@jupyter-widgets/base",
            "_view_module_version": "1.2.0",
            "_view_name": "LayoutView",
            "align_content": null,
            "align_items": null,
            "align_self": null,
            "border": null,
            "bottom": null,
            "display": null,
            "flex": null,
            "flex_flow": null,
            "grid_area": null,
            "grid_auto_columns": null,
            "grid_auto_flow": null,
            "grid_auto_rows": null,
            "grid_column": null,
            "grid_gap": null,
            "grid_row": null,
            "grid_template_areas": null,
            "grid_template_columns": null,
            "grid_template_rows": null,
            "height": null,
            "justify_content": null,
            "justify_items": null,
            "left": null,
            "margin": null,
            "max_height": null,
            "max_width": null,
            "min_height": null,
            "min_width": null,
            "object_fit": null,
            "object_position": null,
            "order": null,
            "overflow": null,
            "overflow_x": null,
            "overflow_y": null,
            "padding": null,
            "right": null,
            "top": null,
            "visibility": null,
            "width": null
          }
        },
        "929d8dcca0024332b37e7e5c4b6ef00e": {
          "model_module": "@jupyter-widgets/controls",
          "model_module_version": "1.5.0",
          "model_name": "ProgressStyleModel",
          "state": {
            "_model_module": "@jupyter-widgets/controls",
            "_model_module_version": "1.5.0",
            "_model_name": "ProgressStyleModel",
            "_view_count": null,
            "_view_module": "@jupyter-widgets/base",
            "_view_module_version": "1.2.0",
            "_view_name": "StyleView",
            "bar_color": null,
            "description_width": ""
          }
        },
        "93271ff93bec44f583c1a4622529f1ce": {
          "model_module": "@jupyter-widgets/controls",
          "model_module_version": "1.5.0",
          "model_name": "ProgressStyleModel",
          "state": {
            "_model_module": "@jupyter-widgets/controls",
            "_model_module_version": "1.5.0",
            "_model_name": "ProgressStyleModel",
            "_view_count": null,
            "_view_module": "@jupyter-widgets/base",
            "_view_module_version": "1.2.0",
            "_view_name": "StyleView",
            "bar_color": null,
            "description_width": ""
          }
        },
        "9ce3a42132254f7ea112342a71a658c6": {
          "model_module": "@jupyter-widgets/base",
          "model_module_version": "1.2.0",
          "model_name": "LayoutModel",
          "state": {
            "_model_module": "@jupyter-widgets/base",
            "_model_module_version": "1.2.0",
            "_model_name": "LayoutModel",
            "_view_count": null,
            "_view_module": "@jupyter-widgets/base",
            "_view_module_version": "1.2.0",
            "_view_name": "LayoutView",
            "align_content": null,
            "align_items": null,
            "align_self": null,
            "border": null,
            "bottom": null,
            "display": null,
            "flex": null,
            "flex_flow": null,
            "grid_area": null,
            "grid_auto_columns": null,
            "grid_auto_flow": null,
            "grid_auto_rows": null,
            "grid_column": null,
            "grid_gap": null,
            "grid_row": null,
            "grid_template_areas": null,
            "grid_template_columns": null,
            "grid_template_rows": null,
            "height": null,
            "justify_content": null,
            "justify_items": null,
            "left": null,
            "margin": null,
            "max_height": null,
            "max_width": null,
            "min_height": null,
            "min_width": null,
            "object_fit": null,
            "object_position": null,
            "order": null,
            "overflow": null,
            "overflow_x": null,
            "overflow_y": null,
            "padding": null,
            "right": null,
            "top": null,
            "visibility": null,
            "width": null
          }
        },
        "a027348f0aaf4a3bb4e354e9b73bd8ef": {
          "model_module": "@jupyter-widgets/controls",
          "model_module_version": "1.5.0",
          "model_name": "LabelModel",
          "state": {
            "_dom_classes": [],
            "_model_module": "@jupyter-widgets/controls",
            "_model_module_version": "1.5.0",
            "_model_name": "LabelModel",
            "_view_count": null,
            "_view_module": "@jupyter-widgets/controls",
            "_view_module_version": "1.5.0",
            "_view_name": "LabelView",
            "description": "",
            "description_tooltip": null,
            "layout": "IPY_MODEL_30e03ce93eb34293bcd87ca7959854a3",
            "placeholder": "​",
            "style": "IPY_MODEL_7921f8a3b21645d9afded2d1ef2b59ba",
            "value": "0.014 MB of 0.014 MB uploaded\r"
          }
        },
        "aa8399df41354082b2923f1e99075ed9": {
          "model_module": "@jupyter-widgets/controls",
          "model_module_version": "1.5.0",
          "model_name": "LabelModel",
          "state": {
            "_dom_classes": [],
            "_model_module": "@jupyter-widgets/controls",
            "_model_module_version": "1.5.0",
            "_model_name": "LabelModel",
            "_view_count": null,
            "_view_module": "@jupyter-widgets/controls",
            "_view_module_version": "1.5.0",
            "_view_name": "LabelView",
            "description": "",
            "description_tooltip": null,
            "layout": "IPY_MODEL_3f0b92538fc04fd08cd2e1572de89f84",
            "placeholder": "​",
            "style": "IPY_MODEL_b71b0e1ce144434c9fc9b4d9f781997c",
            "value": "0.014 MB of 0.014 MB uploaded\r"
          }
        },
        "b48d92ae81684a96be46844484e156fb": {
          "model_module": "@jupyter-widgets/controls",
          "model_module_version": "1.5.0",
          "model_name": "VBoxModel",
          "state": {
            "_dom_classes": [],
            "_model_module": "@jupyter-widgets/controls",
            "_model_module_version": "1.5.0",
            "_model_name": "VBoxModel",
            "_view_count": null,
            "_view_module": "@jupyter-widgets/controls",
            "_view_module_version": "1.5.0",
            "_view_name": "VBoxView",
            "box_style": "",
            "children": [
              "IPY_MODEL_e7a687efc09840a280c42bf8f3d5e4a5",
              "IPY_MODEL_15bad4d6a1164c70acbc8db7edbd9e66"
            ],
            "layout": "IPY_MODEL_21f30a65139d4aa6b755660371049a03"
          }
        },
        "b71b0e1ce144434c9fc9b4d9f781997c": {
          "model_module": "@jupyter-widgets/controls",
          "model_module_version": "1.5.0",
          "model_name": "DescriptionStyleModel",
          "state": {
            "_model_module": "@jupyter-widgets/controls",
            "_model_module_version": "1.5.0",
            "_model_name": "DescriptionStyleModel",
            "_view_count": null,
            "_view_module": "@jupyter-widgets/base",
            "_view_module_version": "1.2.0",
            "_view_name": "StyleView",
            "description_width": ""
          }
        },
        "b822b37bb5cd40e58f423e83a82a61e2": {
          "model_module": "@jupyter-widgets/base",
          "model_module_version": "1.2.0",
          "model_name": "LayoutModel",
          "state": {
            "_model_module": "@jupyter-widgets/base",
            "_model_module_version": "1.2.0",
            "_model_name": "LayoutModel",
            "_view_count": null,
            "_view_module": "@jupyter-widgets/base",
            "_view_module_version": "1.2.0",
            "_view_name": "LayoutView",
            "align_content": null,
            "align_items": null,
            "align_self": null,
            "border": null,
            "bottom": null,
            "display": null,
            "flex": null,
            "flex_flow": null,
            "grid_area": null,
            "grid_auto_columns": null,
            "grid_auto_flow": null,
            "grid_auto_rows": null,
            "grid_column": null,
            "grid_gap": null,
            "grid_row": null,
            "grid_template_areas": null,
            "grid_template_columns": null,
            "grid_template_rows": null,
            "height": null,
            "justify_content": null,
            "justify_items": null,
            "left": null,
            "margin": null,
            "max_height": null,
            "max_width": null,
            "min_height": null,
            "min_width": null,
            "object_fit": null,
            "object_position": null,
            "order": null,
            "overflow": null,
            "overflow_x": null,
            "overflow_y": null,
            "padding": null,
            "right": null,
            "top": null,
            "visibility": null,
            "width": null
          }
        },
        "ccd6079762884df5b2ec6a5ffb5a47bc": {
          "model_module": "@jupyter-widgets/controls",
          "model_module_version": "1.5.0",
          "model_name": "DescriptionStyleModel",
          "state": {
            "_model_module": "@jupyter-widgets/controls",
            "_model_module_version": "1.5.0",
            "_model_name": "DescriptionStyleModel",
            "_view_count": null,
            "_view_module": "@jupyter-widgets/base",
            "_view_module_version": "1.2.0",
            "_view_name": "StyleView",
            "description_width": ""
          }
        },
        "e18ed07e2eea4fce8dd7a06d5edc5317": {
          "model_module": "@jupyter-widgets/controls",
          "model_module_version": "1.5.0",
          "model_name": "ProgressStyleModel",
          "state": {
            "_model_module": "@jupyter-widgets/controls",
            "_model_module_version": "1.5.0",
            "_model_name": "ProgressStyleModel",
            "_view_count": null,
            "_view_module": "@jupyter-widgets/base",
            "_view_module_version": "1.2.0",
            "_view_name": "StyleView",
            "bar_color": null,
            "description_width": ""
          }
        },
        "e67937bd65224880a199beffec88be89": {
          "model_module": "@jupyter-widgets/base",
          "model_module_version": "1.2.0",
          "model_name": "LayoutModel",
          "state": {
            "_model_module": "@jupyter-widgets/base",
            "_model_module_version": "1.2.0",
            "_model_name": "LayoutModel",
            "_view_count": null,
            "_view_module": "@jupyter-widgets/base",
            "_view_module_version": "1.2.0",
            "_view_name": "LayoutView",
            "align_content": null,
            "align_items": null,
            "align_self": null,
            "border": null,
            "bottom": null,
            "display": null,
            "flex": null,
            "flex_flow": null,
            "grid_area": null,
            "grid_auto_columns": null,
            "grid_auto_flow": null,
            "grid_auto_rows": null,
            "grid_column": null,
            "grid_gap": null,
            "grid_row": null,
            "grid_template_areas": null,
            "grid_template_columns": null,
            "grid_template_rows": null,
            "height": null,
            "justify_content": null,
            "justify_items": null,
            "left": null,
            "margin": null,
            "max_height": null,
            "max_width": null,
            "min_height": null,
            "min_width": null,
            "object_fit": null,
            "object_position": null,
            "order": null,
            "overflow": null,
            "overflow_x": null,
            "overflow_y": null,
            "padding": null,
            "right": null,
            "top": null,
            "visibility": null,
            "width": null
          }
        },
        "e7a687efc09840a280c42bf8f3d5e4a5": {
          "model_module": "@jupyter-widgets/controls",
          "model_module_version": "1.5.0",
          "model_name": "LabelModel",
          "state": {
            "_dom_classes": [],
            "_model_module": "@jupyter-widgets/controls",
            "_model_module_version": "1.5.0",
            "_model_name": "LabelModel",
            "_view_count": null,
            "_view_module": "@jupyter-widgets/controls",
            "_view_module_version": "1.5.0",
            "_view_name": "LabelView",
            "description": "",
            "description_tooltip": null,
            "layout": "IPY_MODEL_7cedcf6632e643b383e8d9c196af693a",
            "placeholder": "​",
            "style": "IPY_MODEL_ccd6079762884df5b2ec6a5ffb5a47bc",
            "value": "0.014 MB of 0.014 MB uploaded\r"
          }
        },
        "e8cff45d1e774b3bab4dd6befb10d43c": {
          "model_module": "@jupyter-widgets/controls",
          "model_module_version": "1.5.0",
          "model_name": "FloatProgressModel",
          "state": {
            "_dom_classes": [],
            "_model_module": "@jupyter-widgets/controls",
            "_model_module_version": "1.5.0",
            "_model_name": "FloatProgressModel",
            "_view_count": null,
            "_view_module": "@jupyter-widgets/controls",
            "_view_module_version": "1.5.0",
            "_view_name": "ProgressView",
            "bar_style": "",
            "description": "",
            "description_tooltip": null,
            "layout": "IPY_MODEL_13e22342799a4323bf3f1059e082827f",
            "max": 1,
            "min": 0,
            "orientation": "horizontal",
            "style": "IPY_MODEL_e18ed07e2eea4fce8dd7a06d5edc5317",
            "value": 1
          }
        },
        "eb5dc2642e2345e0a5582a4f94451389": {
          "model_module": "@jupyter-widgets/controls",
          "model_module_version": "1.5.0",
          "model_name": "ProgressStyleModel",
          "state": {
            "_model_module": "@jupyter-widgets/controls",
            "_model_module_version": "1.5.0",
            "_model_name": "ProgressStyleModel",
            "_view_count": null,
            "_view_module": "@jupyter-widgets/base",
            "_view_module_version": "1.2.0",
            "_view_name": "StyleView",
            "bar_color": null,
            "description_width": ""
          }
        },
        "ef4721235ee240d08badd81528eaf79c": {
          "model_module": "@jupyter-widgets/controls",
          "model_module_version": "1.5.0",
          "model_name": "VBoxModel",
          "state": {
            "_dom_classes": [],
            "_model_module": "@jupyter-widgets/controls",
            "_model_module_version": "1.5.0",
            "_model_name": "VBoxModel",
            "_view_count": null,
            "_view_module": "@jupyter-widgets/controls",
            "_view_module_version": "1.5.0",
            "_view_name": "VBoxView",
            "box_style": "",
            "children": [
              "IPY_MODEL_aa8399df41354082b2923f1e99075ed9",
              "IPY_MODEL_3407d57d8488404eaff1306a93b3b4ac"
            ],
            "layout": "IPY_MODEL_7a5d4ee7078b4f67965c4ccb6b793625"
          }
        },
        "f3c6d847ab604a57aa04ab3f2ba258e2": {
          "model_module": "@jupyter-widgets/base",
          "model_module_version": "1.2.0",
          "model_name": "LayoutModel",
          "state": {
            "_model_module": "@jupyter-widgets/base",
            "_model_module_version": "1.2.0",
            "_model_name": "LayoutModel",
            "_view_count": null,
            "_view_module": "@jupyter-widgets/base",
            "_view_module_version": "1.2.0",
            "_view_name": "LayoutView",
            "align_content": null,
            "align_items": null,
            "align_self": null,
            "border": null,
            "bottom": null,
            "display": null,
            "flex": null,
            "flex_flow": null,
            "grid_area": null,
            "grid_auto_columns": null,
            "grid_auto_flow": null,
            "grid_auto_rows": null,
            "grid_column": null,
            "grid_gap": null,
            "grid_row": null,
            "grid_template_areas": null,
            "grid_template_columns": null,
            "grid_template_rows": null,
            "height": null,
            "justify_content": null,
            "justify_items": null,
            "left": null,
            "margin": null,
            "max_height": null,
            "max_width": null,
            "min_height": null,
            "min_width": null,
            "object_fit": null,
            "object_position": null,
            "order": null,
            "overflow": null,
            "overflow_x": null,
            "overflow_y": null,
            "padding": null,
            "right": null,
            "top": null,
            "visibility": null,
            "width": null
          }
        },
        "ffdd2c63a036471ebf0692a844fc12d8": {
          "model_module": "@jupyter-widgets/controls",
          "model_module_version": "1.5.0",
          "model_name": "FloatProgressModel",
          "state": {
            "_dom_classes": [],
            "_model_module": "@jupyter-widgets/controls",
            "_model_module_version": "1.5.0",
            "_model_name": "FloatProgressModel",
            "_view_count": null,
            "_view_module": "@jupyter-widgets/controls",
            "_view_module_version": "1.5.0",
            "_view_name": "ProgressView",
            "bar_style": "",
            "description": "",
            "description_tooltip": null,
            "layout": "IPY_MODEL_9ce3a42132254f7ea112342a71a658c6",
            "max": 1,
            "min": 0,
            "orientation": "horizontal",
            "style": "IPY_MODEL_eb5dc2642e2345e0a5582a4f94451389",
            "value": 1
          }
        }
      }
    }
  },
  "nbformat": 4,
  "nbformat_minor": 0
}
